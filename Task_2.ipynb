{
 "cells": [
  {
   "cell_type": "code",
   "execution_count": 26,
   "id": "30234e10",
   "metadata": {},
   "outputs": [
    {
     "name": "stdout",
     "output_type": "stream",
     "text": [
      "Completed!\n"
     ]
    }
   ],
   "source": [
    "import requests\n",
    "from bs4 import BeautifulSoup\n",
    "\n",
    "def scrape_data(url):\n",
    "    try:\n",
    "        response = requests.get(url)\n",
    "        response.raise_for_status()\n",
    "        soup = BeautifulSoup(response.content, 'html.parser')\n",
    "\n",
    "        items = soup.find_all('div', class_='thumbnail')\n",
    "        text = []\n",
    "        \n",
    "        for item in items:\n",
    "            name = item.find('h4', class_='title')\n",
    "            price = item.find('h4', class_='price')\n",
    "            reviews = item.find('p', class_='ratings')\n",
    "            description = item.find('p', class_='description')\n",
    "            hdd = item.find('h4', class_='pull-right')\n",
    "\n",
    "            name_text = name.text.strip() if name else \"-\"\n",
    "            price_text = price.text.strip() if price else \"-\"\n",
    "            reviews_text = reviews.text.strip() if reviews else \"-\"\n",
    "            description_text = description.text.strip() if description else \"-\"\n",
    "            hdd_text = hdd.text.strip() if hdd else \"-\"\n",
    "\n",
    "            item_data = {\n",
    "                'Name': name_text,\n",
    "                'Price': price_text,\n",
    "                'Reviews': reviews_text,\n",
    "                'Description': description_text,\n",
    "                'HDD': hdd_text\n",
    "            }\n",
    "\n",
    "            text.append(item_data)\n",
    "\n",
    "        with open('text.txt', 'w') as file:\n",
    "            for item_data in text:\n",
    "                item_data = {key: value if value != 'N/A' else '-' for key, value in item_data.items()}\n",
    "                file.write(str(item_data) + '\\n')\n",
    "\n",
    "        print(\"Completed!\")\n",
    "\n",
    "    except requests.exceptions.RequestException as e:\n",
    "        print(f\"Error fetching webpage: {e}\")\n",
    "    except Exception as e:\n",
    "        print(f\"An error occurred: {e}\")\n",
    "\n",
    "url = \"https://webscraper.io/test-sites/e-commerce/allinone\"\n",
    "\n",
    "scrape_data(url)\n"
   ]
  },
  {
   "cell_type": "code",
   "execution_count": 27,
   "id": "e09d441b",
   "metadata": {},
   "outputs": [
    {
     "name": "stdout",
     "output_type": "stream",
     "text": [
      "{'Name': '-', 'Price': '$295.99', 'Reviews': '-', 'Description': 'Asus VivoBook X441NA-GA190 Chocolate Black, 14\", Celeron N3450, 4GB, 128GB SSD, Endless OS, ENG kbd', 'HDD': '$295.99'}\n",
      "{'Name': '-', 'Price': '$1294.74', 'Reviews': '-', 'Description': 'Toshiba Portege Z30-C-16K Grey, 13.3\" FHD, Core i5-6200U, 8GB, 256GB SSD, 4G, Windows 10 Pro', 'HDD': '$1294.74'}\n",
      "{'Name': '-', 'Price': '$251.99', 'Reviews': '-', 'Description': '16GB, White', 'HDD': '$251.99'}\n",
      "\n"
     ]
    }
   ],
   "source": [
    "# txt file\n",
    "with open('text.txt', 'r') as file:\n",
    "    data = file.read()\n",
    "\n",
    "print(data)\n"
   ]
  },
  {
   "cell_type": "code",
   "execution_count": null,
   "id": "fff612b6",
   "metadata": {},
   "outputs": [],
   "source": []
  },
  {
   "cell_type": "code",
   "execution_count": null,
   "id": "716a5787",
   "metadata": {},
   "outputs": [],
   "source": []
  }
 ],
 "metadata": {
  "kernelspec": {
   "display_name": "Python 3 (ipykernel)",
   "language": "python",
   "name": "python3"
  },
  "language_info": {
   "codemirror_mode": {
    "name": "ipython",
    "version": 3
   },
   "file_extension": ".py",
   "mimetype": "text/x-python",
   "name": "python",
   "nbconvert_exporter": "python",
   "pygments_lexer": "ipython3",
   "version": "3.9.13"
  }
 },
 "nbformat": 4,
 "nbformat_minor": 5
}
